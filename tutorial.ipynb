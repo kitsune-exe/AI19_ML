{
 "cells": [
  {
   "cell_type": "code",
   "execution_count": 3,
   "metadata": {},
   "outputs": [
    {
     "name": "stdout",
     "output_type": "stream",
     "text": [
      "[[4.9 3.1 1.5 0.2]\n",
      " [5.7 3.  4.2 1.2]\n",
      " [6.4 3.1 5.5 1.8]\n",
      " [5.8 2.7 5.1 1.9]\n",
      " [4.9 3.  1.4 0.2]\n",
      " [6.8 3.2 5.9 2.3]\n",
      " [5.8 4.  1.2 0.2]\n",
      " [6.8 2.8 4.8 1.4]\n",
      " [5.  3.2 1.2 0.2]\n",
      " [5.5 2.3 4.  1.3]\n",
      " [5.2 3.4 1.4 0.2]\n",
      " [5.6 3.  4.5 1.5]\n",
      " [5.1 3.4 1.5 0.2]\n",
      " [7.2 3.2 6.  1.8]\n",
      " [6.7 3.  5.  1.7]] [0 1 2 2 0 2 0 1 0 1 0 1 0 2 1]\n"
     ]
    }
   ],
   "source": [
    "from sklearn import tree\n",
    "from sklearn.datasets import load_iris\n",
    "from sklearn.model_selection import train_test_split\n",
    "\n",
    "iris = load_iris()\n",
    "train_x, valid_x, train_y, valid_y = train_test_split(iris.data, iris.target, test_size=0.1)\n",
    "print(valid_x, valid_y)"
   ]
  },
  {
   "cell_type": "code",
   "execution_count": 5,
   "metadata": {},
   "outputs": [
    {
     "name": "stdout",
     "output_type": "stream",
     "text": [
      "Training Accuracy:\n",
      " 1.0\n",
      "Training data prediction:\n",
      " [1 2 0 0 0 2 0 2 2 2 2 0 1 2 0 0 1 1 2 2 1 1 1 1 2 2 2 2 1 2 0 1 0 1 0 0 2\n",
      " 2 2 2 0 0 1 2 1 1 2 1 1 1 0 0 1 0 2 1 2 1 0 2 0 0 0 1 1 0 0 2 0 0 0 0 2 2\n",
      " 1 0 2 2 0 2 0 2 2 0 1 0 2 1 0 0 0 1 2 1 1 0 2 1 2 1 2 1 1 1 1 2 2 1 0 1 1\n",
      " 0 1 0 2 2 1 2 0 0 1 0 2 1 0 2 1 1 0 1 2 0 2 1 2]\n",
      "Validation Accuracy:\n",
      " 0.9333333333333333\n",
      "Validation data prediction:\n",
      " [0 1 2 2 0 2 0 1 0 1 0 1 0 2 2]\n"
     ]
    }
   ],
   "source": [
    "from sklearn import tree\n",
    "\n",
    "clf1 = tree.DecisionTreeClassifier(criterion='entropy', max_depth=7)\n",
    "clf1 = clf1.fit(train_x, train_y)\n",
    "print('Training Accuracy:\\n', clf1.score(train_x, train_y))\n",
    "print('Training data prediction:\\n', clf1.predict(train_x))\n",
    "print('Validation Accuracy:\\n', clf1.score(valid_x, valid_y))\n",
    "print('Validation data prediction:\\n', clf1.predict(valid_x))\n"
   ]
  },
  {
   "cell_type": "code",
   "execution_count": null,
   "metadata": {},
   "outputs": [],
   "source": []
  }
 ],
 "metadata": {
  "kernelspec": {
   "display_name": "Python 3",
   "language": "python",
   "name": "python3"
  },
  "language_info": {
   "codemirror_mode": {
    "name": "ipython",
    "version": 3
   },
   "file_extension": ".py",
   "mimetype": "text/x-python",
   "name": "python",
   "nbconvert_exporter": "python",
   "pygments_lexer": "ipython3",
   "version": "3.7.3"
  }
 },
 "nbformat": 4,
 "nbformat_minor": 2
}

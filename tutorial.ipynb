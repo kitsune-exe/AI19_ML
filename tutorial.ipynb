{
 "cells": [
  {
   "cell_type": "code",
   "execution_count": 3,
   "metadata": {},
   "outputs": [
    {
     "name": "stdout",
     "output_type": "stream",
     "text": [
      "[[6.3 2.5 5.  1.9]\n",
      " [6.8 2.8 4.8 1.4]\n",
      " [4.7 3.2 1.3 0.2]\n",
      " [6.4 3.2 4.5 1.5]\n",
      " [5.7 2.5 5.  2. ]\n",
      " [7.7 3.8 6.7 2.2]\n",
      " [6.5 3.  5.5 1.8]\n",
      " [7.3 2.9 6.3 1.8]\n",
      " [6.3 2.8 5.1 1.5]\n",
      " [7.9 3.8 6.4 2. ]\n",
      " [5.  3.4 1.6 0.4]\n",
      " [5.6 3.  4.5 1.5]\n",
      " [5.9 3.2 4.8 1.8]\n",
      " [5.1 3.5 1.4 0.2]\n",
      " [5.9 3.  5.1 1.8]] [2 1 0 1 2 2 2 2 2 2 0 1 1 0 2]\n"
     ]
    }
   ],
   "source": [
    "from sklearn import tree\n",
    "from sklearn.datasets import load_iris\n",
    "from sklearn.model_selection import train_test_split\n",
    "\n",
    "iris = load_iris()\n",
    "train_x, valid_x, train_y, valid_y = train_test_split(iris.data, iris.target, test_size=0.1)\n",
    "print(valid_x, valid_y)"
   ]
  },
  {
   "cell_type": "code",
   "execution_count": 2,
   "metadata": {},
   "outputs": [
    {
     "name": "stdout",
     "output_type": "stream",
     "text": [
      "Training Accuracy:\n",
      " 1.0\n",
      "Training data prediction:\n",
      " [0 0 0 0 2 1 0 0 2 1 2 0 1 1 1 1 2 2 0 0 0 1 2 2 1 1 1 2 0 0 2 1 2 1 2 0 2\n",
      " 1 1 1 2 1 2 2 0 2 1 1 0 0 0 0 1 0 1 1 1 2 1 1 0 1 0 2 0 0 2 1 1 1 0 0 2 2\n",
      " 0 1 2 0 1 0 1 2 2 1 0 0 2 1 2 2 0 2 1 2 0 0 2 2 1 2 0 1 0 2 1 1 0 2 1 2 2\n",
      " 1 0 0 2 0 2 0 0 2 0 1 2 1 1 1 1 0 0 1 0 2 0 2 2]\n",
      "Validation Accuracy:\n",
      " 1.0\n",
      "Validation data prediction:\n",
      " [1 1 1 2 2 0 1 0 2 0 2 2 0 2 2]\n"
     ]
    }
   ],
   "source": [
    "from sklearn import tree\n",
    "\n",
    "clf1 = tree.DecisionTreeClassifier(criterion='entropy', max_depth=7)\n",
    "clf1 = clf1.fit(train_x, train_y)\n",
    "print('Training Accuracy:\\n', clf1.score(train_x, train_y))\n",
    "print('Training data prediction:\\n', clf1.predict(train_x))\n",
    "print('Validation Accuracy:\\n', clf1.score(valid_x, valid_y))\n",
    "print('Validation data prediction:\\n', clf1.predict(valid_x))\n"
   ]
  },
  {
   "cell_type": "code",
   "execution_count": null,
   "metadata": {},
   "outputs": [],
   "source": []
  }
 ],
 "metadata": {
  "kernelspec": {
   "display_name": "Python 3",
   "language": "python",
   "name": "python3"
  },
  "language_info": {
   "codemirror_mode": {
    "name": "ipython",
    "version": 3
   },
   "file_extension": ".py",
   "mimetype": "text/x-python",
   "name": "python",
   "nbconvert_exporter": "python",
   "pygments_lexer": "ipython3",
   "version": "3.7.5"
  }
 },
 "nbformat": 4,
 "nbformat_minor": 2
}